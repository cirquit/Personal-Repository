{
 "cells": [
  {
   "cell_type": "markdown",
   "metadata": {},
   "source": [
    "### Classification of MNIST digits from sound\n",
    "\n",
    "##### Data information:\n",
    "\n",
    "We have a dataset of `8800` spoken digits, encoded as a time series of `13` Mel-frequency cepstral coefficients. \n",
    "\n",
    "\n",
    "###### Train Set:\n",
    "\n",
    "Filename: `Train_Arabic_Digits.txt`\n",
    "\n",
    "Each block delimited by an empty line corresponds to a one analysis frame which consist of `4-93` lines of `13 MEL` coefficients.\n",
    "\n",
    "The first `330` blocks correspond to male speakers, the next `330` are spoken by females.\n",
    "\n",
    "Block `1-660` correspond to the digit `0`, `661-1320` to the digit `1`, etc.\n",
    "\n",
    "In summary we should have `6600` test data samples.\n",
    "\n",
    "###### Test Set:\n",
    "\n",
    "Filename: `Test_Arabic_Digits.txt`\n",
    "\n",
    "Same as the training set, except we have only `220` for each digit, the first `110` are spoken by males, and the other `110` by females.\n",
    "\n",
    "In summary we should have `2200` test data samples.\n",
    "\n",
    "\n",
    "Link to the [data source](http://archive.ics.uci.edu/ml/datasets/Spoken+Arabic+Digit)."
   ]
  },
  {
   "cell_type": "code",
   "execution_count": 2,
   "metadata": {
    "collapsed": false
   },
   "outputs": [],
   "source": [
    "%matplotlib inline\n",
    "\n",
    "import csv\n",
    "import pandas as pd\n",
    "import numpy as np\n",
    "import matplotlib.pyplot as plt\n",
    "import sys\n",
    "import operator\n",
    "import functools\n",
    "from sklearn.neighbors import KNeighborsClassifier\n",
    "from sklearn.metrics import accuracy_score\n"
   ]
  },
  {
   "cell_type": "code",
   "execution_count": 3,
   "metadata": {
    "collapsed": false
   },
   "outputs": [],
   "source": [
    "# index to track how many samples we've seen for the current class\n",
    "s_ix   = 0\n",
    "\n",
    "trainings_set_raw = [[]]\n",
    "\n",
    "with open('Train_Arabic_Digits.txt', 'r') as file:\n",
    "    for lineix, line in enumerate(file):\n",
    "        if line.isspace():\n",
    "            s_ix += 1\n",
    "            trainings_set_raw.append([])\n",
    "        else:\n",
    "            coeffs = [float(s) for s in line.split(' ')]\n",
    "            trainings_set_raw[s_ix].append(coeffs)\n",
    "\n",
    "s_ix   = 0\n",
    "\n",
    "test_set_raw = [[]]\n",
    "\n",
    "with open('Test_Arabic_Digits.txt', 'r') as file:\n",
    "    for lineix, line in enumerate(file):\n",
    "        if line.isspace():\n",
    "            s_ix += 1\n",
    "            test_set_raw.append([])\n",
    "        else:\n",
    "            coeffs = [float(s) for s in line.split(' ')]\n",
    "            test_set_raw[s_ix].append(coeffs)\n"
   ]
  },
  {
   "cell_type": "code",
   "execution_count": 4,
   "metadata": {
    "collapsed": false
   },
   "outputs": [
    {
     "name": "stdout",
     "output_type": "stream",
     "text": [
      "Smallest timestep size: 4 for 6600 samples\n",
      "Greatest timestep size: 93 for 6600 samples\n",
      "Smallest timestep size: 7 for 2200 samples\n",
      "Greatest timestep size: 83 for 2200 samples\n"
     ]
    }
   ],
   "source": [
    "# as the samples have different length, we will clip them to the smallest size\n",
    "\n",
    "def check_timestep_size(dataset):\n",
    "    min_len = sys.maxsize\n",
    "    max_len = 0\n",
    "    for sample in range(1,len(dataset)):\n",
    "        cur_len = len(dataset[sample])\n",
    "        if  cur_len < min_len:\n",
    "            min_len = cur_len\n",
    "        if  cur_len > max_len:\n",
    "            max_len = cur_len\n",
    "\n",
    "    print('Smallest timestep size: {0} for {1} samples'.format(min_len, len(dataset)))\n",
    "    print('Greatest timestep size: {0} for {1} samples'.format(max_len, len(dataset)))\n",
    "    \n",
    "check_timestep_size(trainings_set_raw)\n",
    "check_timestep_size(test_set_raw)"
   ]
  },
  {
   "cell_type": "code",
   "execution_count": 8,
   "metadata": {
    "collapsed": false
   },
   "outputs": [
    {
     "data": {
      "image/png": "[encoded data removed]",
      "text/plain": [
       "<matplotlib.figure.Figure at 0x7f9f20916128>"
      ]
     },
     "metadata": {},
     "output_type": "display_data"
    }
   ],
   "source": [
    "# let's see the distribution of the length\n",
    "\n",
    "training_set_lengths = list(map(lambda l: len(l), trainings_set_raw))\n",
    "zeros  = training_set_lengths[1:660]\n",
    "ones   = training_set_lengths[661:1320]\n",
    "twos   = training_set_lengths[1321:1980]\n",
    "threes = training_set_lengths[1981:2640]\n",
    "fours  = training_set_lengths[2641:3300]\n",
    "fives  = training_set_lengths[3301:3960]\n",
    "sixs   = training_set_lengths[3961:4620]\n",
    "sevens = training_set_lengths[4621:5220]\n",
    "eights = training_set_lengths[5281:5940]\n",
    "nines  = training_set_lengths[5941:6600]\n",
    "\n",
    "fig = plt.violinplot([zeros, ones, twos, threes, fours, fives, sixs, sevens, eights, nines]\n",
    "                     , range(0,10)\n",
    "                     , showmeans=True)\n",
    "plt.title('Timestep length of every digit')\n",
    "plt.xticks(range(0,10))\n",
    "plt.xlabel('Class')\n",
    "plt.ylabel('Timesample length')\n",
    "plt.show()"
   ]
  },
  {
   "cell_type": "code",
   "execution_count": 9,
   "metadata": {
    "collapsed": false
   },
   "outputs": [
    {
     "data": {
      "image/png": "[encoded data removed]",
      "text/plain": [
       "<matplotlib.figure.Figure at 0x7f9f208b9e10>"
      ]
     },
     "metadata": {},
     "output_type": "display_data"
    }
   ],
   "source": [
    "# Gender analysis\n",
    "\n",
    "zeros_m  = zeros[1:330]\n",
    "zeros_f  = zeros[331:660]\n",
    "\n",
    "ones_m  = ones[1:330]\n",
    "ones_f  = ones[331:660]\n",
    "\n",
    "twos_m  = twos[1:330]\n",
    "twos_f  = twos[331:660]\n",
    "\n",
    "threes_m  = threes[1:330]\n",
    "threes_f  = threes[331:660]\n",
    "\n",
    "fours_m  = fours[1:330]\n",
    "fours_f  = fours[331:660]\n",
    "\n",
    "fives_m  = fives[1:330]\n",
    "fives_f  = fives[331:660]\n",
    "\n",
    "sixs_m  = sixs[1:330]\n",
    "sixs_f  = sixs[331:660]\n",
    "\n",
    "sevens_m  = sevens[1:330]\n",
    "sevens_f  = sevens[331:660]\n",
    "\n",
    "eights_m  = eights[1:330]\n",
    "eights_f  = eights[331:660]\n",
    "\n",
    "nines_m  = nines[1:330]\n",
    "nines_f  = nines[331:660]\n",
    "\n",
    "fig, axes = plt.subplots(nrows=1, ncols=2, figsize=(12, 6))\n",
    "\n",
    "axes[0].violinplot([zeros_m, ones_m, twos_m, threes_m, fours_m, fives_m, sixs_m, sevens_m, eights_m, nines_m]\n",
    "                     , range(0,10)\n",
    "                     , showmeans=True)\n",
    "axes[0].set_title('Timestep length of every digit for males')\n",
    "axes[0].set_xticks(range(0,10))\n",
    "axes[0].set_xlabel('Class')\n",
    "axes[0].set_ylabel('Timesample length')\n",
    "\n",
    "axes[1].violinplot([zeros_f, ones_f, twos_f, threes_f, fours_f, fives_f, sixs_f, sevens_f, eights_f, nines_f]\n",
    "                     , range(0,10)\n",
    "                     , showmeans=True)\n",
    "axes[1].set_title('Timestep length of every digit for females')\n",
    "axes[1].set_xticks(range(0,10))\n",
    "axes[1].set_xlabel('Class')\n",
    "axes[1].set_ylabel('Timesample length')\n",
    "\n",
    "plt.show()\n"
   ]
  },
  {
   "cell_type": "code",
   "execution_count": 235,
   "metadata": {
    "collapsed": false
   },
   "outputs": [
    {
     "name": "stdout",
     "output_type": "stream",
     "text": [
      "Smallest timestep size: 93 for 6600 samples\n",
      "Greatest timestep size: 93 for 6600 samples\n",
      "Smallest timestep size: 93 for 6600 samples\n",
      "Greatest timestep size: 93 for 6600 samples\n"
     ]
    }
   ],
   "source": [
    "# we will append zeros to every sample until it each one reaches 93 timesteps\n",
    "\n",
    "def add_zero_padding(dataset):\n",
    "    \n",
    "    zero_padding = [0.] * 13\n",
    "    \n",
    "    for ix in range(1,len(dataset)):\n",
    "        while len(dataset[ix]) < 93:\n",
    "            dataset[ix].append(zero_padding)\n",
    "\n",
    "add_zero_padding(trainings_set_raw)\n",
    "add_zero_padding(test_set_raw)\n",
    "\n",
    "# let's check the sizes again\n",
    "check_timestep_size(trainings_set_raw)\n",
    "check_timestep_size(test_set_raw)"
   ]
  },
  {
   "cell_type": "code",
   "execution_count": 239,
   "metadata": {
    "collapsed": false
   },
   "outputs": [
    {
     "name": "stdout",
     "output_type": "stream",
     "text": [
      "Everything is flattened: True\n",
      "Everything is flattened: True\n"
     ]
    }
   ],
   "source": [
    "# now we will flatten the timesteps so every sample will have a dimension of 93*13\n",
    "\n",
    "def flatten_set(dataset):\n",
    "    is_flattened = True\n",
    "    new_dataset  = [0] * len(dataset)\n",
    "    \n",
    "    for ix in range(1, len(dataset)):\n",
    "        new_dataset[ix] = functools.reduce(operator.add, dataset[ix])\n",
    "        is_flattened &= len(new_dataset[ix]) == 93 * 13\n",
    "            \n",
    "    print('Everything is flattened: {0}'.format(is_flattened))\n",
    "    return new_dataset\n",
    "    \n",
    "trainings_set = flatten_set(trainings_set_raw)\n",
    "test_set      = flatten_set(test_set_raw)"
   ]
  },
  {
   "cell_type": "code",
   "execution_count": 278,
   "metadata": {
    "collapsed": false
   },
   "outputs": [
    {
     "name": "stdout",
     "output_type": "stream",
     "text": [
      "Trainingsize - X: 6600, Y:6600\n",
      "Testsize     - X: 2200, Y:2200\n"
     ]
    }
   ],
   "source": [
    "# now we have the create the target labels\n",
    "trainings_set_targets_raw = [ [0] * 660, [1] * 660, [2] * 660, [3] * 660, [4] * 660, [5] * 660, [6] * 660, [7] * 660, [8] * 660, [9] * 660 ]\n",
    "test_set_targets_raw      = [ [0] * 220, [1] * 220, [2] * 220, [3] * 220, [4] * 220, [5] * 220, [6] * 220, [7] * 220, [8] * 220, [9] * 220]\n",
    "\n",
    "# flatten them\n",
    "trainings_set_targets = [item for sublist in trainings_set_targets_raw for item in sublist]\n",
    "test_set_targets = [item for sublist in test_set_targets_raw for item in sublist]\n",
    "\n",
    "print('Trainingsize - X: {0}, Y:{1}'.format(len(trainings_set),len(trainings_set_targets)))\n",
    "print('Testsize     - X: {0}, Y:{1}'.format(len(test_set),len(test_set_targets)))\n"
   ]
  },
  {
   "cell_type": "code",
   "execution_count": 279,
   "metadata": {
    "collapsed": false
   },
   "outputs": [
    {
     "data": {
      "text/plain": [
       "KNeighborsClassifier(algorithm='auto', leaf_size=30, metric='minkowski',\n",
       "           metric_params=None, n_jobs=1, n_neighbors=10, p=2,\n",
       "           weights='uniform')"
      ]
     },
     "execution_count": 279,
     "metadata": {},
     "output_type": "execute_result"
    },
    {
     "data": {
      "image/png": "[encoded data removed]",
      "text/plain": [
       "<matplotlib.figure.Figure at 0x7f08b6eed668>"
      ]
     },
     "metadata": {},
     "output_type": "display_data"
    }
   ],
   "source": [
    "plt.plot(trainings_set_targets)\n",
    "plt.plot(test_set_targets)\n",
    "\n",
    "# somehow the first element is a zero, we just duplicate to test the classifier\n",
    "trainings_set[0] = trainings_set[1]\n",
    "test_set[0]      = test_set[1]\n",
    "\n",
    "classifier = KNeighborsClassifier(n_neighbors=10, weights='uniform', algorithm='auto')\n",
    "classifier.fit(trainings_set, trainings_set_targets)"
   ]
  },
  {
   "cell_type": "code",
   "execution_count": 283,
   "metadata": {
    "collapsed": false
   },
   "outputs": [
    {
     "name": "stdout",
     "output_type": "stream",
     "text": [
      "Accuracy: 96.22727272727273%\n"
     ]
    }
   ],
   "source": [
    "# now we trained our classifer - let's see the accuracy (this may take some time)\n",
    "test_prediction = classifier.predict(test_set)\n",
    "accuracy = accuracy_score(test_set_targets, test_prediction)\n",
    "print('Accuracy: {0}%'.format(accuracy*100))"
   ]
  },
  {
   "cell_type": "code",
   "execution_count": 340,
   "metadata": {
    "collapsed": false
   },
   "outputs": [
    {
     "name": "stdout",
     "output_type": "stream",
     "text": [
      "Should be 0: [0]\n",
      "Should be 0: [0]\n",
      "Should be 0: [0]\n",
      "Should be 0: [0]\n",
      "Should be 0: [0]\n",
      "Should be 0: [0]\n",
      "Should be 0: [7]\n",
      "Should be 0: [7]\n",
      "Should be 0: [0]\n",
      "Should be 0: [0]\n",
      "Should be 0: [0]\n",
      "Should be 0: [0]\n",
      "Should be 0: [0]\n",
      "Should be 0: [0]\n",
      "Should be 0: [0]\n",
      "Should be 0: [0]\n",
      "Should be 0: [0]\n",
      "Should be 0: [0]\n",
      "Should be 0: [0]\n",
      "\n",
      "Should be 1: [1]\n",
      "Should be 1: [1]\n",
      "Should be 1: [1]\n",
      "Should be 1: [1]\n",
      "Should be 1: [1]\n",
      "Should be 1: [1]\n",
      "Should be 1: [1]\n",
      "Should be 1: [1]\n",
      "Should be 1: [1]\n",
      "Should be 1: [1]\n",
      "Should be 1: [1]\n",
      "Should be 1: [1]\n",
      "Should be 1: [1]\n",
      "Should be 1: [1]\n",
      "Should be 1: [1]\n",
      "Should be 1: [1]\n",
      "Should be 1: [1]\n",
      "Should be 1: [1]\n",
      "Should be 1: [1]\n",
      "Should be 1: [1]\n",
      "Should be 2: [2]\n",
      "Should be 2: [2]\n",
      "Should be 2: [2]\n",
      "Should be 2: [2]\n",
      "Should be 2: [2]\n",
      "Should be 2: [2]\n",
      "Should be 2: [2]\n",
      "Should be 2: [2]\n",
      "Should be 2: [2]\n",
      "Should be 2: [2]\n",
      "Should be 2: [2]\n",
      "Should be 2: [2]\n",
      "Should be 2: [2]\n",
      "Should be 2: [2]\n",
      "Should be 2: [2]\n",
      "Should be 2: [2]\n",
      "Should be 2: [2]\n",
      "Should be 2: [2]\n",
      "Should be 2: [2]\n",
      "Should be 2: [2]\n",
      "Should be 3: [3]\n",
      "Should be 3: [3]\n",
      "Should be 3: [8]\n",
      "Should be 3: [3]\n",
      "Should be 3: [7]\n",
      "Should be 3: [4]\n",
      "Should be 3: [3]\n",
      "Should be 3: [7]\n",
      "Should be 3: [3]\n",
      "Should be 3: [7]\n",
      "Should be 3: [3]\n",
      "Should be 3: [3]\n",
      "Should be 3: [3]\n",
      "Should be 3: [3]\n",
      "Should be 3: [3]\n",
      "Should be 3: [3]\n",
      "Should be 3: [3]\n",
      "Should be 3: [3]\n",
      "Should be 3: [3]\n",
      "Should be 3: [3]\n",
      "Should be 4: [4]\n",
      "Should be 4: [4]\n",
      "Should be 4: [4]\n",
      "Should be 4: [4]\n",
      "Should be 4: [4]\n",
      "Should be 4: [4]\n",
      "Should be 4: [4]\n",
      "Should be 4: [4]\n",
      "Should be 4: [4]\n",
      "Should be 4: [4]\n",
      "Should be 4: [4]\n",
      "Should be 4: [4]\n",
      "Should be 4: [4]\n",
      "Should be 4: [4]\n",
      "Should be 4: [4]\n",
      "Should be 4: [4]\n",
      "Should be 4: [4]\n",
      "Should be 4: [4]\n",
      "Should be 4: [4]\n",
      "Should be 4: [4]\n",
      "Should be 5: [5]\n",
      "Should be 5: [5]\n",
      "Should be 5: [5]\n",
      "Should be 5: [5]\n",
      "Should be 5: [5]\n",
      "Should be 5: [5]\n",
      "Should be 5: [5]\n",
      "Should be 5: [5]\n",
      "Should be 5: [5]\n",
      "Should be 5: [5]\n",
      "Should be 5: [5]\n",
      "Should be 5: [5]\n",
      "Should be 5: [5]\n",
      "Should be 5: [5]\n",
      "Should be 5: [5]\n",
      "Should be 5: [5]\n",
      "Should be 5: [5]\n",
      "Should be 5: [5]\n",
      "Should be 5: [5]\n",
      "Should be 5: [5]\n",
      "Should be 6: [6]\n",
      "Should be 6: [6]\n",
      "Should be 6: [6]\n",
      "Should be 6: [6]\n",
      "Should be 6: [6]\n",
      "Should be 6: [6]\n",
      "Should be 6: [6]\n",
      "Should be 6: [6]\n",
      "Should be 6: [6]\n",
      "Should be 6: [6]\n",
      "Should be 6: [0]\n",
      "Should be 6: [6]\n",
      "Should be 6: [6]\n",
      "Should be 6: [6]\n",
      "Should be 6: [6]\n",
      "Should be 6: [6]\n",
      "Should be 6: [6]\n",
      "Should be 6: [6]\n",
      "Should be 6: [6]\n",
      "Should be 6: [6]\n",
      "Should be 7: [7]\n",
      "Should be 7: [7]\n",
      "Should be 7: [7]\n",
      "Should be 7: [7]\n",
      "Should be 7: [7]\n",
      "Should be 7: [7]\n",
      "Should be 7: [7]\n",
      "Should be 7: [7]\n",
      "Should be 7: [7]\n",
      "Should be 7: [7]\n",
      "Should be 7: [7]\n",
      "Should be 7: [7]\n",
      "Should be 7: [7]\n",
      "Should be 7: [7]\n",
      "Should be 7: [7]\n",
      "Should be 7: [7]\n",
      "Should be 7: [7]\n",
      "Should be 7: [7]\n",
      "Should be 7: [7]\n",
      "Should be 7: [7]\n",
      "Should be 8: [8]\n",
      "Should be 8: [8]\n",
      "Should be 8: [8]\n",
      "Should be 8: [8]\n",
      "Should be 8: [8]\n",
      "Should be 8: [8]\n",
      "Should be 8: [8]\n",
      "Should be 8: [8]\n",
      "Should be 8: [8]\n",
      "Should be 8: [8]\n",
      "Should be 8: [8]\n",
      "Should be 8: [8]\n",
      "Should be 8: [8]\n",
      "Should be 8: [8]\n",
      "Should be 8: [8]\n",
      "Should be 8: [8]\n",
      "Should be 8: [8]\n",
      "Should be 8: [8]\n",
      "Should be 8: [8]\n",
      "Should be 8: [8]\n",
      "Should be 9: [9]\n",
      "Should be 9: [9]\n",
      "Should be 9: [9]\n",
      "Should be 9: [9]\n",
      "Should be 9: [9]\n",
      "Should be 9: [9]\n",
      "Should be 9: [9]\n",
      "Should be 9: [9]\n",
      "Should be 9: [9]\n",
      "Should be 9: [9]\n",
      "Should be 9: [9]\n",
      "Should be 9: [9]\n",
      "Should be 9: [9]\n",
      "Should be 9: [9]\n",
      "Should be 9: [9]\n",
      "Should be 9: [9]\n",
      "Should be 9: [9]\n",
      "Should be 9: [9]\n",
      "Should be 9: [9]\n",
      "Should be 9: [9]\n"
     ]
    }
   ],
   "source": [
    "# let's see first-hand\n",
    "\n",
    "for ix in range(1,20):\n",
    "    print('Should be 0: {0}'.format(classifier.predict(np.array(test_set[ix]).reshape(1,-1))))\n",
    "print()\n",
    "\n",
    "for ix in range(240,260):\n",
    "    print('Should be 1: {0}'.format(classifier.predict(np.array(test_set[ix]).reshape(1,-1))))\n",
    "print()\n",
    "\n",
    "for ix in range(460,480):\n",
    "    print('Should be 2: {0}'.format(classifier.predict(np.array(test_set[ix]).reshape(1,-1))))\n",
    "print()\n",
    "\n",
    "for ix in range(690,710):\n",
    "    print('Should be 3: {0}'.format(classifier.predict(np.array(test_set[ix]).reshape(1,-1))))\n",
    "print()\n",
    "\n",
    "for ix in range(900,920):\n",
    "    print('Should be 4: {0}'.format(classifier.predict(np.array(test_set[ix]).reshape(1,-1))))\n",
    "print()\n",
    "    \n",
    "for ix in range(1150,1170):\n",
    "    print('Should be 5: {0}'.format(classifier.predict(np.array(test_set[ix]).reshape(1,-1))))\n",
    "print()\n",
    "    \n",
    "for ix in range(1350,1370):\n",
    "    print('Should be 6: {0}'.format(classifier.predict(np.array(test_set[ix]).reshape(1,-1))))\n",
    "print()\n",
    "    \n",
    "for ix in range(1600,1620):\n",
    "    print('Should be 7: {0}'.format(classifier.predict(np.array(test_set[ix]).reshape(1,-1))))\n",
    "print()\n",
    "\n",
    "for ix in range(1780,1800):\n",
    "    print('Should be 8: {0}'.format(classifier.predict(np.array(test_set[ix]).reshape(1,-1))))\n",
    "print()\n",
    "\n",
    "for ix in range(1980,2000):\n",
    "    print('Should be 9: {0}'.format(classifier.predict(np.array(test_set[ix]).reshape(1,-1))))\n",
    "print()"
   ]
  },
  {
   "cell_type": "code",
   "execution_count": null,
   "metadata": {
    "collapsed": true
   },
   "outputs": [],
   "source": []
  },
  {
   "cell_type": "code",
   "execution_count": null,
   "metadata": {
    "collapsed": true
   },
   "outputs": [],
   "source": []
  }
 ],
 "metadata": {
  "anaconda-cloud": {},
  "kernelspec": {
   "display_name": "Python [conda env:mnist-sounds]",
   "language": "python",
   "name": "conda-env-mnist-sounds-py"
  },
  "language_info": {
   "codemirror_mode": {
    "name": "ipython",
    "version": 3
   },
   "file_extension": ".py",
   "mimetype": "text/x-python",
   "name": "python",
   "nbconvert_exporter": "python",
   "pygments_lexer": "ipython3",
   "version": "3.5.2"
  }
 },
 "nbformat": 4,
 "nbformat_minor": 1
}
